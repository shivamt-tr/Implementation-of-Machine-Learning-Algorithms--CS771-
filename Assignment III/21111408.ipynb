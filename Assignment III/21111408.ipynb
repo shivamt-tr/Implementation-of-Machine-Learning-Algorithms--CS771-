{
 "cells": [
  {
   "cell_type": "markdown",
   "metadata": {},
   "source": [
    "# Assignment 3"
   ]
  },
  {
   "cell_type": "markdown",
   "metadata": {},
   "source": [
    "# Import the necessary libraries"
   ]
  },
  {
   "cell_type": "code",
   "execution_count": 638,
   "id": "9b8622d4",
   "metadata": {},
   "outputs": [],
   "source": [
    "import time\n",
    "import numpy as np\n",
    "import pandas as pd\n",
    "import matplotlib.pyplot as plt"
   ]
  },
  {
   "cell_type": "markdown",
   "id": "12d88fd4",
   "metadata": {},
   "source": [
    "# Question 1: We saw the perceptron algorithm in Lecture 15. I want you to implement this algorithm, and use it to classify banknotes as forged or authentic in this dataset. In particular,\n",
    "# (a) Code up the perceptron algorithm described on slide 7 of Lecture 15 using the same notation as in the slides. [10 points]"
   ]
  },
  {
   "cell_type": "code",
   "execution_count": 639,
   "metadata": {},
   "outputs": [],
   "source": [
    "def perceptron(data, init_, learn_rate=1, n_iter=50):\n",
    "    '''\n",
    "    Implementation of perceptron algorithm using stochastic sub-gradient descent\n",
    "    Input:\n",
    "    data: Data to train the model\n",
    "    init_: Value for initializing the weight vector w\n",
    "    learn_rate: learning rate to run our gradient descent algorithm\n",
    "    n_iter: number of iterations\n",
    "    tol: tolerance to stop iterations when the update becomes close to 0\n",
    "    \n",
    "    Output:\n",
    "    Optimal w for the given dataset\n",
    "    \n",
    "    Logic:\n",
    "    Run until convergence:\n",
    "        chose a random sample from given data\n",
    "        find the prediction on this sample using the current w\n",
    "        if the prediction is wrong, then update w using the rule: w(t+1) = w(t) + y_n.x_n\n",
    "    '''\n",
    "    \n",
    "    # initialize w with init_\n",
    "    w = init_\n",
    "\n",
    "    # initialize a correct classification counter, this will be used for convergence criteria\n",
    "    correct_classification = 0\n",
    "\n",
    "    # run the update for n_iter iterations\n",
    "    for i in range(n_iter):\n",
    "\n",
    "        # select a random data point from input dataset\n",
    "        random_sample = data[np.random.choice(data.shape[0], size=1, replace=False)][0]\n",
    "\n",
    "        # extract the training attributes and labels from the random sample\n",
    "        X = random_sample[:-1]\n",
    "        y = random_sample[-1]  # the true label is the last value in sample\n",
    "\n",
    "        if(y*np.dot(w, X) < 0):\n",
    "            correct_classification += 1\n",
    "\n",
    "        # update w if the current prediction is wrong, i.e. the sign of actual value and predicted value is different\n",
    "        if(y*np.dot(w, X) < 0):\n",
    "\n",
    "            # reset the correct_classification counter\n",
    "            correct_classification = 0\n",
    "            \n",
    "            # calculate the delta (the update to be done on weight vector w)\n",
    "            delta = learn_rate * y * X\n",
    "\n",
    "            # update w\n",
    "            w += delta\n",
    "        \n",
    "        # break the loop if if the classification for last 10 iterations is correct\n",
    "        if(correct_classification > 10):\n",
    "            print('Converged at Iteration: ', i)\n",
    "            break\n",
    "\n",
    "    return w"
   ]
  },
  {
   "cell_type": "markdown",
   "metadata": {},
   "source": [
    "# (b) Write functions to make predictions using the algorithm for the banknotes dataset. Preprocess the dataset to handle missing and anomalous data. [10 points]"
   ]
  },
  {
   "cell_type": "markdown",
   "metadata": {},
   "source": [
    "# (i) Define the function to find the predicted label for a given input"
   ]
  },
  {
   "cell_type": "code",
   "execution_count": 640,
   "metadata": {},
   "outputs": [],
   "source": [
    "def predict(x, w):\n",
    "    '''\n",
    "    This function returns the prediction for the data sample x and returns the predicted label.\n",
    "    Logic:\n",
    "        y_n = w.T * x_n\n",
    "    '''\n",
    "    return 1 if np.dot(w, x) > 0 else -1"
   ]
  },
  {
   "cell_type": "markdown",
   "metadata": {},
   "source": [
    "# (ii) Load banknotes authentication dataset"
   ]
  },
  {
   "cell_type": "code",
   "execution_count": 641,
   "id": "638413a1",
   "metadata": {},
   "outputs": [
    {
     "data": {
      "text/html": [
       "<div>\n",
       "<style scoped>\n",
       "    .dataframe tbody tr th:only-of-type {\n",
       "        vertical-align: middle;\n",
       "    }\n",
       "\n",
       "    .dataframe tbody tr th {\n",
       "        vertical-align: top;\n",
       "    }\n",
       "\n",
       "    .dataframe thead th {\n",
       "        text-align: right;\n",
       "    }\n",
       "</style>\n",
       "<table border=\"1\" class=\"dataframe\">\n",
       "  <thead>\n",
       "    <tr style=\"text-align: right;\">\n",
       "      <th></th>\n",
       "      <th>variance</th>\n",
       "      <th>skewness</th>\n",
       "      <th>curtosis</th>\n",
       "      <th>entropy</th>\n",
       "      <th>class</th>\n",
       "    </tr>\n",
       "  </thead>\n",
       "  <tbody>\n",
       "    <tr>\n",
       "      <th>0</th>\n",
       "      <td>3.62160</td>\n",
       "      <td>8.6661</td>\n",
       "      <td>-2.8073</td>\n",
       "      <td>-0.44699</td>\n",
       "      <td>0</td>\n",
       "    </tr>\n",
       "    <tr>\n",
       "      <th>1</th>\n",
       "      <td>4.54590</td>\n",
       "      <td>8.1674</td>\n",
       "      <td>-2.4586</td>\n",
       "      <td>-1.46210</td>\n",
       "      <td>0</td>\n",
       "    </tr>\n",
       "    <tr>\n",
       "      <th>2</th>\n",
       "      <td>3.86600</td>\n",
       "      <td>-2.6383</td>\n",
       "      <td>1.9242</td>\n",
       "      <td>0.10645</td>\n",
       "      <td>0</td>\n",
       "    </tr>\n",
       "    <tr>\n",
       "      <th>3</th>\n",
       "      <td>3.45660</td>\n",
       "      <td>9.5228</td>\n",
       "      <td>-4.0112</td>\n",
       "      <td>-3.59440</td>\n",
       "      <td>0</td>\n",
       "    </tr>\n",
       "    <tr>\n",
       "      <th>4</th>\n",
       "      <td>0.32924</td>\n",
       "      <td>-4.4552</td>\n",
       "      <td>4.5718</td>\n",
       "      <td>-0.98880</td>\n",
       "      <td>0</td>\n",
       "    </tr>\n",
       "  </tbody>\n",
       "</table>\n",
       "</div>"
      ],
      "text/plain": [
       "   variance  skewness  curtosis  entropy  class\n",
       "0   3.62160    8.6661   -2.8073 -0.44699      0\n",
       "1   4.54590    8.1674   -2.4586 -1.46210      0\n",
       "2   3.86600   -2.6383    1.9242  0.10645      0\n",
       "3   3.45660    9.5228   -4.0112 -3.59440      0\n",
       "4   0.32924   -4.4552    4.5718 -0.98880      0"
      ]
     },
     "execution_count": 641,
     "metadata": {},
     "output_type": "execute_result"
    }
   ],
   "source": [
    "def load_data(data_path, file_name, column_names):\n",
    "    '''\n",
    "    Function to load the dataset as a dataframe\n",
    "    This function takes the datafile location and column names as input and returns the dataframe\n",
    "    '''\n",
    "    return pd.read_csv(data_path+file_name, sep=\",\", names=column_names)\n",
    "\n",
    "\n",
    "data_path = './dataset/'\n",
    "file_name = 'data_banknote_authentication.txt'\n",
    "column_names = ['variance', 'skewness', 'curtosis', 'entropy', 'class']\n",
    "\n",
    "banknotes_data = load_data(data_path, file_name, column_names)\n",
    "banknotes_data.head()"
   ]
  },
  {
   "cell_type": "markdown",
   "metadata": {},
   "source": [
    "# (iii) Exploratory Data Analysis and Preprocessing"
   ]
  },
  {
   "cell_type": "code",
   "execution_count": 642,
   "metadata": {},
   "outputs": [
    {
     "name": "stdout",
     "output_type": "stream",
     "text": [
      "<class 'pandas.core.frame.DataFrame'>\n",
      "RangeIndex: 1372 entries, 0 to 1371\n",
      "Data columns (total 5 columns):\n",
      " #   Column    Non-Null Count  Dtype  \n",
      "---  ------    --------------  -----  \n",
      " 0   variance  1372 non-null   float64\n",
      " 1   skewness  1372 non-null   float64\n",
      " 2   curtosis  1372 non-null   float64\n",
      " 3   entropy   1372 non-null   float64\n",
      " 4   class     1372 non-null   int64  \n",
      "dtypes: float64(4), int64(1)\n",
      "memory usage: 53.7 KB\n"
     ]
    }
   ],
   "source": [
    "banknotes_data.info()"
   ]
  },
  {
   "cell_type": "code",
   "execution_count": 643,
   "metadata": {},
   "outputs": [
    {
     "data": {
      "text/html": [
       "<div>\n",
       "<style scoped>\n",
       "    .dataframe tbody tr th:only-of-type {\n",
       "        vertical-align: middle;\n",
       "    }\n",
       "\n",
       "    .dataframe tbody tr th {\n",
       "        vertical-align: top;\n",
       "    }\n",
       "\n",
       "    .dataframe thead th {\n",
       "        text-align: right;\n",
       "    }\n",
       "</style>\n",
       "<table border=\"1\" class=\"dataframe\">\n",
       "  <thead>\n",
       "    <tr style=\"text-align: right;\">\n",
       "      <th></th>\n",
       "      <th>variance</th>\n",
       "      <th>skewness</th>\n",
       "      <th>curtosis</th>\n",
       "      <th>entropy</th>\n",
       "      <th>class</th>\n",
       "    </tr>\n",
       "  </thead>\n",
       "  <tbody>\n",
       "    <tr>\n",
       "      <th>count</th>\n",
       "      <td>1372.000000</td>\n",
       "      <td>1372.000000</td>\n",
       "      <td>1372.000000</td>\n",
       "      <td>1372.000000</td>\n",
       "      <td>1372.000000</td>\n",
       "    </tr>\n",
       "    <tr>\n",
       "      <th>mean</th>\n",
       "      <td>0.433735</td>\n",
       "      <td>1.922353</td>\n",
       "      <td>1.397627</td>\n",
       "      <td>-1.191657</td>\n",
       "      <td>0.444606</td>\n",
       "    </tr>\n",
       "    <tr>\n",
       "      <th>std</th>\n",
       "      <td>2.842763</td>\n",
       "      <td>5.869047</td>\n",
       "      <td>4.310030</td>\n",
       "      <td>2.101013</td>\n",
       "      <td>0.497103</td>\n",
       "    </tr>\n",
       "    <tr>\n",
       "      <th>min</th>\n",
       "      <td>-7.042100</td>\n",
       "      <td>-13.773100</td>\n",
       "      <td>-5.286100</td>\n",
       "      <td>-8.548200</td>\n",
       "      <td>0.000000</td>\n",
       "    </tr>\n",
       "    <tr>\n",
       "      <th>25%</th>\n",
       "      <td>-1.773000</td>\n",
       "      <td>-1.708200</td>\n",
       "      <td>-1.574975</td>\n",
       "      <td>-2.413450</td>\n",
       "      <td>0.000000</td>\n",
       "    </tr>\n",
       "    <tr>\n",
       "      <th>50%</th>\n",
       "      <td>0.496180</td>\n",
       "      <td>2.319650</td>\n",
       "      <td>0.616630</td>\n",
       "      <td>-0.586650</td>\n",
       "      <td>0.000000</td>\n",
       "    </tr>\n",
       "    <tr>\n",
       "      <th>75%</th>\n",
       "      <td>2.821475</td>\n",
       "      <td>6.814625</td>\n",
       "      <td>3.179250</td>\n",
       "      <td>0.394810</td>\n",
       "      <td>1.000000</td>\n",
       "    </tr>\n",
       "    <tr>\n",
       "      <th>max</th>\n",
       "      <td>6.824800</td>\n",
       "      <td>12.951600</td>\n",
       "      <td>17.927400</td>\n",
       "      <td>2.449500</td>\n",
       "      <td>1.000000</td>\n",
       "    </tr>\n",
       "  </tbody>\n",
       "</table>\n",
       "</div>"
      ],
      "text/plain": [
       "          variance     skewness     curtosis      entropy        class\n",
       "count  1372.000000  1372.000000  1372.000000  1372.000000  1372.000000\n",
       "mean      0.433735     1.922353     1.397627    -1.191657     0.444606\n",
       "std       2.842763     5.869047     4.310030     2.101013     0.497103\n",
       "min      -7.042100   -13.773100    -5.286100    -8.548200     0.000000\n",
       "25%      -1.773000    -1.708200    -1.574975    -2.413450     0.000000\n",
       "50%       0.496180     2.319650     0.616630    -0.586650     0.000000\n",
       "75%       2.821475     6.814625     3.179250     0.394810     1.000000\n",
       "max       6.824800    12.951600    17.927400     2.449500     1.000000"
      ]
     },
     "execution_count": 643,
     "metadata": {},
     "output_type": "execute_result"
    }
   ],
   "source": [
    "banknotes_data.describe()"
   ]
  },
  {
   "cell_type": "markdown",
   "metadata": {},
   "source": [
    "## We can see that the dataset does not contain any missing values, so missing data imputation is not required.\n",
    "## Also, the dataset does not contain any categorical features"
   ]
  },
  {
   "cell_type": "markdown",
   "metadata": {},
   "source": [
    "# (iv) Standardize the feature columns"
   ]
  },
  {
   "cell_type": "code",
   "execution_count": 644,
   "id": "2c50e833",
   "metadata": {},
   "outputs": [],
   "source": [
    "# split the dataframe into data and target columns since we don't need to normalize the target column\n",
    "data = banknotes_data.drop('class', axis=1)\n",
    "target = banknotes_data['class'].copy()\n",
    "    \n",
    "# do min-max normalization of all the features in the dataframe data\n",
    "data = (data - data.min()) / (data.max() - data.min())\n",
    "\n",
    "# concatenate the price column to the features\n",
    "banknotes_data = pd.concat([data, target], axis=1)"
   ]
  },
  {
   "cell_type": "markdown",
   "metadata": {},
   "source": [
    "# (v) Some general preprocessing\n",
    "- Convert the dataframe to a numpy array, \n",
    "- Change the target column values from 0/1 to -1/+1, this would allow us to run the exact algorithm as mentioned in the lecture slides\n",
    "- Append a column of 1's in the dataframe. This would allow us to include a bias term in parameters of w."
   ]
  },
  {
   "cell_type": "code",
   "execution_count": 645,
   "metadata": {},
   "outputs": [],
   "source": [
    "# convert the data to a numpy array as it will be easier to work with numpy array\n",
    "banknotes_data = banknotes_data.to_numpy()\n",
    "\n",
    "# change the label 0 to -1, so that we will have +1/-1 labels in our data\n",
    "for i in range(banknotes_data.shape[0]):\n",
    "    if(banknotes_data[i, -1] == 0):\n",
    "        banknotes_data[i, -1] = -1\n",
    "\n",
    "# The below line appends an extra dimension of ones to the data samples\n",
    "banknotes_data = np.c_[np.ones(banknotes_data.shape[0]), banknotes_data]\n",
    "\n",
    "# shuffle the rows in data\n",
    "np.random.shuffle(banknotes_data)"
   ]
  },
  {
   "cell_type": "markdown",
   "metadata": {},
   "source": [
    "# Split the Data into Train and Test Set"
   ]
  },
  {
   "cell_type": "code",
   "execution_count": 646,
   "metadata": {},
   "outputs": [
    {
     "name": "stdout",
     "output_type": "stream",
     "text": [
      "(1098, 6) (273, 6)\n"
     ]
    }
   ],
   "source": [
    "# shuffle the sequence of samples\n",
    "np.random.shuffle(banknotes_data)\n",
    "\n",
    "# take 20% of samples as test data\n",
    "test_data_size = int(0.2 * len(banknotes_data))\n",
    "\n",
    "# extract train and test data\n",
    "test_data = banknotes_data[:test_data_size-1]\n",
    "train_data = banknotes_data[test_data_size:]\n",
    "\n",
    "print(train_data.shape, test_data.shape)"
   ]
  },
  {
   "cell_type": "markdown",
   "metadata": {},
   "source": [
    "# (c) Train the algorithm on the dataset using cross-validation and report cross-validated test set error [10 points]"
   ]
  },
  {
   "cell_type": "code",
   "execution_count": 647,
   "metadata": {},
   "outputs": [],
   "source": [
    "def perceptron_loss(data, w):\n",
    "    '''\n",
    "    This function calculates the perceptron loss on the input data and optimal w\n",
    "    Logic:\n",
    "        L(w) = sum over all data samples ( max{0, -y_n * W.T * x_n} )\n",
    "    '''\n",
    "\n",
    "    # extract the data features and labels from input data\n",
    "    X = data[:, :-1]\n",
    "    y = data[:, -1]\n",
    "\n",
    "    loss = 0\n",
    "\n",
    "    for i in range(X.shape[0]):\n",
    "        loss += max(0, -y[i]*np.dot(w, X[i]))\n",
    "\n",
    "    return loss"
   ]
  },
  {
   "cell_type": "markdown",
   "metadata": {},
   "source": [
    "# Define the KFoldCrossValidation Function"
   ]
  },
  {
   "cell_type": "code",
   "execution_count": 648,
   "metadata": {},
   "outputs": [],
   "source": [
    "def KFoldCrossValidation(data, init_w, n_folds=4):\n",
    "    '''\n",
    "    This functions take the training data as input and number of folds to be\n",
    "    used for the kFoldCrossValidation. It returns the average error on validation set\n",
    "    '''\n",
    "    \n",
    "    # size of single data split for the given number of folds\n",
    "    piece_size = int(data.shape[0] / n_folds)\n",
    "    \n",
    "    # copy the data into a seperate variable\n",
    "    data_copy = np.copy(data)\n",
    "    \n",
    "    # shuffle the rows in the data\n",
    "    np.random.shuffle(data_copy)  # shuffle happens inplace\n",
    "\n",
    "    error = 0\n",
    "\n",
    "    min_error = float('inf')\n",
    "    \n",
    "    # iterate over each piece of data and calculate average RMSE over the validation set\n",
    "    for i in range(0, n_folds):\n",
    "        \n",
    "        # create an array of indexes for validation data\n",
    "        # for ex: when i=0 the indexes for validation set would be [0...39]\n",
    "        # when i=1 the indexes for validation set would be [40...79] and so on.\n",
    "        val_data_indexes = np.arange(i*piece_size, (i+1)*piece_size)\n",
    "        \n",
    "        # extract the validation data based on the above indexes\n",
    "        val_data = data_copy[val_data_indexes]\n",
    "        \n",
    "        # extract the training data by removing the rows belonging to the indexes of validation data\n",
    "        train_data = np.delete(data_copy, val_data_indexes, axis=0)\n",
    "\n",
    "        w = perceptron(train_data, init_w, learn_rate=1, n_iter=10000)\n",
    "\n",
    "        # find the error on this split\n",
    "        error_i = perceptron_loss(val_data, w)\n",
    "\n",
    "        # update the best_w if the current error is lower\n",
    "        if(error_i < min_error):\n",
    "            min_error = error_i\n",
    "            best_w = w\n",
    "\n",
    "        # sum all the values of errors on each validation set formed in the splits\n",
    "        error += error_i\n",
    "        \n",
    "    # return the average error on validation set and the best_w\n",
    "    return error/n_folds, best_w"
   ]
  },
  {
   "cell_type": "markdown",
   "metadata": {},
   "source": [
    "## Run the cross validation on the perceptron algorithm and find the best w"
   ]
  },
  {
   "cell_type": "code",
   "execution_count": 649,
   "metadata": {},
   "outputs": [
    {
     "name": "stdout",
     "output_type": "stream",
     "text": [
      "The average validation set error on 10 fold cross validation = 1.1556651103432425\n",
      "The best w is =  [ 29.         -20.57515965 -22.98918587 -23.25081823  -0.15607905]\n"
     ]
    }
   ],
   "source": [
    "# set initial w to all one's, the size of w will be equal to the number of dimensions of the data\n",
    "init_w = np.ones((banknotes_data.shape[1]-1))\n",
    "\n",
    "# find the optimal w using cross validation\n",
    "avg_error, best_w = KFoldCrossValidation(banknotes_data, init_w, n_folds=10)\n",
    "print('The average validation set error on 10 fold cross validation =', avg_error)\n",
    "\n",
    "print('The best w is = ', best_w)"
   ]
  },
  {
   "cell_type": "markdown",
   "metadata": {},
   "source": [
    "# (d) Ensure you use a held out validation set and report F1 score on the held out set for your best model [5 points]"
   ]
  },
  {
   "cell_type": "markdown",
   "metadata": {},
   "source": [
    "# Define the function to calculate F1 Score\n",
    "\n",
    "To calculate the F1 Score we need to calculate precision and recall using number of true positives, false positives, and false negative.\n",
    "\n",
    "* true_positive = number of correct classification of positive samples <br>\n",
    "* false_positive = number of incorrect classification of negative samples <br>\n",
    "* false_negative = number of incorrect classification of negative samples\n",
    "\n",
    "<br>\n",
    "\n",
    "$$ Precision = \\frac {true\\_positive} {true\\_positive + false\\_positive} $$\n",
    "\n",
    "<br>\n",
    "\n",
    "$$ Recall = \\frac {true\\_positive} {true\\_positive + false\\_negative} $$\n",
    "\n",
    "<br>\n",
    "\n",
    "The F1 Score is the harmonic mean of precision and recall, \n",
    "\n",
    "<br>\n",
    "\n",
    "$$ f1score = \\frac {2*precision*recall} {precision+recall} $$"
   ]
  },
  {
   "cell_type": "code",
   "execution_count": 650,
   "metadata": {},
   "outputs": [],
   "source": [
    "def f1_score(y, y_pred):\n",
    "    '''\n",
    "    This function calculates the f1_score given actual labels and predicted labels\n",
    "    '''\n",
    "\n",
    "    # true_positive is the number of positive samples that our model correctly classified as positive\n",
    "    true_positive = sum((y == 1) & (y_pred == 1))\n",
    "    # false_positive is the number of negative samples that our model incorrectly classified as positive\n",
    "    false_positive = sum((y == -1) & (y_pred == 1))\n",
    "    # false_negative is the number of positive samples that our model incorrectly classified as negative\n",
    "    false_negative = sum((y == 1) & (y_pred == -1))\n",
    "    \n",
    "    # calculate precision and recall\n",
    "    precision = true_positive/(true_positive + false_positive)\n",
    "    recall = true_positive/(true_positive + false_negative)\n",
    "\n",
    "    # return the f1 score, which is the harmonic mean of precision and recall\n",
    "    return 2*precision*recall / (precision + recall)"
   ]
  },
  {
   "cell_type": "code",
   "execution_count": 651,
   "metadata": {},
   "outputs": [
    {
     "name": "stdout",
     "output_type": "stream",
     "text": [
      "The F1 Score on Test Data for the Best Model is 0.9769230769230769\n"
     ]
    }
   ],
   "source": [
    "# find the predictions for the test data\n",
    "y_pred = []\n",
    "for x in test_data:\n",
    "    y_pred.append(predict(x[:-1], best_w))\n",
    "\n",
    "# convert to pandas series (this will make it easier to calculate f1 score based on the function we defined above)\n",
    "y = pd.Series(test_data[:, -1].astype(int).tolist())\n",
    "y_pred = pd.Series(y_pred)\n",
    "\n",
    "print('The F1 Score on Test Data for the Best Model is', f1_score(y, y_pred))"
   ]
  },
  {
   "cell_type": "markdown",
   "metadata": {},
   "source": [
    "# Question 2: In Lecture 14, we saw how we can use MCMC sampling to approximate Bayesian posteriors when the prior and likelihood distributions are not conjugate. Let’s consider a simple demonstration of MCMC sampling in a setting where conjugacy is actually possible – normal likelihoods with a known population variance, for which the prior is another normal distribution.\n",
    "\n",
    "# (a) Write a function to calculate the Bayesian posterior probability given 50 new data samples drawn from a normal distribution with mean 10 and SD 5, assuming a normal prior with mean 25 and s.d. 5. Plot the pdfs of the prior, the likelihood and the posterior distributions. Explain how you derive the likelihood from the data. [15 points]"
   ]
  },
  {
   "cell_type": "markdown",
   "metadata": {},
   "source": [
    "# (i) Derivation of the Likelihood Function"
   ]
  },
  {
   "cell_type": "markdown",
   "metadata": {},
   "source": [
    "The likelihood for a sample $x$ can be written as:\n",
    "\n",
    "$$\n",
    "\\begin{align}\n",
    "P(x|\\mu, \\sigma^2) = \\frac {1} {\\sqrt{2 \\pi \\sigma^2}} e^{\\frac{-(x-\\mu)^2}{2 \\sigma^2}}\n",
    "\\end{align}\n",
    "$$\n",
    "\n",
    "<br>\n",
    "\n",
    "For $n$ i.i.d. samples $x_1, x_2, ..., x_n$, we can calculate the likelihood as following:\n",
    "\n",
    "$$\n",
    "\\begin{align}\n",
    "P(x_1, x_2, ..., x_n|\\mu, \\sigma^2) &= \\prod_{i=1}^{n} \\frac {1} {\\sqrt{2 \\pi \\sigma^2}} e^{\\frac{-(x_i-\\mu)^2}{2 \\sigma^2}} \\\\\n",
    "&= \\left( \\frac {1} {\\sqrt{2 \\pi \\sigma^2}} \\right)^n e^{\\frac{-\\sum_{i=1}^n (x_i-\\mu)^2}{2 \\sigma^2}} \\\\\n",
    "&\\propto e^{\\frac{-\\sum_{i=1}^n (x_i-\\mu)^2}{2 \\sigma^2}}\n",
    "\\end{align}\n",
    "$$\n",
    "\n",
    "<br>\n",
    "\n",
    "Now, we will do some mathematical rearrangement and rewrite the above equation in a different way,\n",
    "\n",
    "$$\n",
    "\\begin{align}\n",
    "P(x_1, x_2, ..., x_n|\\mu, \\sigma^2) &\\propto e^{\\frac{-\\sum_{i=1}^n (x_i-\\mu)^2}{2 \\sigma^2}} \\\\\n",
    "&\\propto e^{\\frac {- \\left(\\sum_{i=1}^n x_i^2 + n \\mu^2 - 2 \\mu \\sum_{i=1}^n x_i \\right)} {2 \\sigma^2}} \\\\\n",
    "&\\propto e^{\\frac {-n} {2 \\sigma^2} \\left( \\mu^2 - 2\\mu \\frac{\\sum_{i=1}^n x_i}{n} + \\frac{\\sum_{i=1}^n x_i^2} {n}  \\right)} \\\\\n",
    "&\\propto e^{\\frac {-1} {2 \\left( \\sigma^2 / n \\right)} \\left( \\mu^2 - 2\\mu \\bar{x} + \\frac{\\sum_{i=1}^n x_i^2} {n}  \\right)} \\\\\n",
    "&\\propto e^{\\frac {-1} {2 \\left( \\sigma^2 / n \\right)} \\left( \\mu^2 - 2\\mu \\bar{x} + \\frac{\\sum_{i=1}^n x_i^2} {n}  \\right)}\n",
    "\\end{align}\n",
    "$$\n",
    "\n",
    "We known that the product of normal distributions is also a normal distribution, so the form of above equation will be similar to $ \\propto e^{\\frac {-1} {2 \\sigma^2} (\\mu - \\mu_L)^2} $ which can be written as $ e^{\\frac {-1} {2 \\sigma^2} \\left( \\mu^2 - 2\\mu\\mu_L + \\mu_L^2 \\right)} $\n",
    "\n",
    "On comparing this with the result we obtained above, we can see that $\\mu_L = \\bar{x}$ and $\\sigma_L^2 = \\frac {\\sigma^2} {n}$ where $\\mu_L$ is the mean and $\\sigma_L^2$ is the variance of likelihood distribution.\n",
    "\n",
    "<br>\n",
    "\n",
    "Therefore, the probability density function for the likelihood is $\\mathcal{N}(\\bar {x}, \\frac{\\sigma^2}{n})$"
   ]
  },
  {
   "cell_type": "markdown",
   "metadata": {},
   "source": [
    "# (ii) Calculating the Posterior Probability"
   ]
  },
  {
   "cell_type": "markdown",
   "metadata": {},
   "source": [
    "In order to calculate the bayesian posterior probability we will apply baye's theorem and insert the likelihood and prior. \n",
    "\n",
    "<br>\n",
    "\n",
    "The statement to calculate the the bayesian posterior probability $P(\\theta|y)$ can be written as:\n",
    "\n",
    "$$ P(\\theta|y) = \\frac {P(\\theta) * P(y|\\theta)}{P(y)} $$\n",
    "\n",
    "&emsp;&emsp; where $P(\\theta)$ is the prior, $P(y|\\theta)$ is the likelihood and $P(y)$ is the marginal likelihood.\n",
    "\n",
    "Since, it is given that prior is a normal distribution, let's take prior as $\\mathcal{N}(\\mu_{prior}, \\sigma_{prior}^2)$\n",
    "\n",
    "<br>\n",
    "\n",
    "$$\n",
    "\\begin{align}\n",
    "Posterior &= Prior * Likelihood \\\\\n",
    "\n",
    "&\\propto exp \\left[\\frac{-(\\mu - \\mu_{prior})^2}{2\\sigma_{prior}^2} \\right] * exp \\left[\\frac{-n(\\mu - \\bar{x})^2}{2\\sigma^2}\\right] \\\\\n",
    "\n",
    "&\\propto exp \\left[\\frac{-(\\mu^2 -2\\mu\\mu_{prior} + \\mu_{prior}^2)}{2\\sigma_{prior}^2} \\right] * exp \\left[\\frac{-n(\\mu^2 -2\\mu\\bar{x} + \\bar{x}^2)}{2\\sigma^2}\\right] \\\\\n",
    "\n",
    "&\\propto exp \\left[\\frac{-(\\mu^2 -2\\mu\\mu_{prior} + \\mu_{prior}^2)}{2\\sigma_{prior}^2} \\right] * exp \\left[\\frac{-n(\\mu^2 -2\\mu\\bar{x} + \\bar{x}^2)}{2\\sigma^2}\\right] \\\\\n",
    "\n",
    "&\\propto exp \\left[\\frac{-1}{2} \\mu^2 \\left( \\frac{1}{\\sigma_{prior}^2} + \\frac{n}{\\sigma^2} \\right) - 2 \\mu \\left( \\frac{\\mu_{prior}}{\\sigma_{prior}^2} + \\frac{n \\bar{x}}{\\sigma^2} \\right)   \\right] \\\\\n",
    "\n",
    "\n",
    "\\end{align}\n",
    "$$\n",
    "\n",
    "We known that the product of normal distributions is also a normal distribution, so the form of above equation will be similar to $ \\propto e^{\\frac {-1} {2 \\sigma^2} (\\mu - \\mu_{post})^2} $ which can be written as $ e^{\\frac {-1} {2 \\sigma^2} \\left( \\mu^2 - 2\\mu\\mu_{post} + \\mu_{post}^2 \\right)} $\n",
    "\n",
    "On comparing this with the result we obtained above, we can see that $\\mu_{post} = \\sigma_{posterior}^2 \\left(\\frac {\\mu_{prior} \\sigma^2 + n\\bar{x} \\sigma_{prior}^2}{\\sigma^2 \\sigma_{prior}^2} \\right)$ and $\\sigma_{post}^2 = \\frac{\\sigma^2 \\sigma_{prior}^2} {\\sigma^2 + n\\sigma_{prior}^2}$ where $\\mu_{post}$ is the mean and $\\sigma_{post}^2$ is the variance of posterior distribution.\n",
    "\n",
    "Therefore, the probability density function for the posterior is $\\mathcal{N}(\\sigma_{posterior}^2 \\left(\\frac {\\mu_{prior} \\sigma^2 + n\\bar{x} \\sigma_{prior}^2}{\\sigma^2 \\sigma_{prior}^2} \\right), \\frac{\\sigma^2 \\sigma_{prior}^2} {\\sigma^2 + n\\sigma_{prior}^2})$"
   ]
  },
  {
   "cell_type": "markdown",
   "metadata": {},
   "source": [
    "# (iii) Define function for calculating the norm\n",
    "\n",
    "$\\mathcal{N}(x|\\mu, \\sigma^2) = \\frac{1}{\\sqrt{2 \\pi \\sigma^2}} exp \\left[ \\frac{(x - \\mu)^2} {2 \\sigma^2} \\right]$"
   ]
  },
  {
   "cell_type": "code",
   "execution_count": 652,
   "metadata": {},
   "outputs": [],
   "source": [
    "def norm(x, mean, variance): \n",
    "    '''\n",
    "    This function calculates and returns the norm using data, mean and its variance\n",
    "    '''\n",
    "    return np.exp(-np.square(x-mean)/(2*variance)) / np.sqrt(2*np.pi*variance)"
   ]
  },
  {
   "cell_type": "markdown",
   "metadata": {},
   "source": [
    "# (iv) Plot the pdf of prior, data generator, likelihood, and posterior"
   ]
  },
  {
   "cell_type": "code",
   "execution_count": 653,
   "metadata": {},
   "outputs": [
    {
     "name": "stdout",
     "output_type": "stream",
     "text": [
      "Likelihood 9.415571632984689 0.7818564807386692\n",
      "Posterior 9.787546281425936 0.7724693148882209\n"
     ]
    },
    {
     "data": {
      "image/png": "[encoded data removed]",
      "text/plain": [
       "<Figure size 720x504 with 1 Axes>"
      ]
     },
     "metadata": {
      "needs_background": "light"
     },
     "output_type": "display_data"
    }
   ],
   "source": [
    "# Define figure-size, labels, and figure-title\n",
    "plt.figure(figsize=(10, 7))\n",
    "plt.xlabel('')\n",
    "plt.ylabel('')\n",
    "plt.title('Probability Density Functions')\n",
    "\n",
    "# Generate list of numbers for plotting pdf of prior\n",
    "mean_prior = 25\n",
    "std_prior = 5\n",
    "\n",
    "# Generate 50 samples for the likelihood using mean as 10 and std as 5\n",
    "data_samples = np.random.normal(loc=10, scale=5, size=50)\n",
    "data_mean = np.mean(data_samples)\n",
    "data_std = np.std(data_samples)\n",
    "\n",
    "# Calculate the mean and std for likelihood using the expression derived above\n",
    "mean_likelihood = data_mean\n",
    "std_likelihood = data_std / np.sqrt(len(data_samples))\n",
    "print('Likelihood', mean_likelihood, std_likelihood)\n",
    "\n",
    "# Calculate the mean and std for posterior using the expression derived above\n",
    "variance_posterior = (data_std**2 * std_prior**2) / (data_std**2 + len(data_samples)*std_prior**2)\n",
    "std_posterior = np.sqrt(variance_posterior)\n",
    "mean_posterior = variance_posterior * ((mean_prior * data_std**2 + len(data_samples) * data_mean * std_prior**2) / (std_prior**2 * data_std**2))\n",
    "\n",
    "print('Posterior', mean_posterior, std_posterior)\n",
    "\n",
    "# Generate number to plot the pdfs\n",
    "x_plot = np.linspace(start=0, stop=50, num=1000)\n",
    "\n",
    "# Plot the prior, likelihood and posterior\n",
    "plt.plot(x_plot, norm(x_plot, mean=mean_prior, variance=std_prior**2), color='g', linewidth=2)\n",
    "plt.plot(x_plot, norm(x_plot, mean=mean_likelihood, variance=std_likelihood**2), color='b', linewidth=2)\n",
    "plt.plot(x_plot, norm(x_plot, mean=mean_posterior, variance=variance_posterior), color='r', linewidth=2)\n",
    "\n",
    "# Add legend to the figure\n",
    "plt.legend([\"Prior\", \"Likelihood\", \"Posterior\"], loc =\"upper left\")\n",
    "\n",
    "# Show the plot\n",
    "plt.show()"
   ]
  },
  {
   "cell_type": "markdown",
   "metadata": {},
   "source": [
    "# (b) Implement the Metropolis algorithm from the lecture slides to estimate the posterior distribution given the same prior and data and show that it converges to the analytic posterior by plotting a histogram of samples from the distribution alongside the analytic posterior distribution. Assume whatever SD (width) you want for the proposal distribution. [15 points]"
   ]
  },
  {
   "cell_type": "markdown",
   "metadata": {},
   "source": [
    "# Define the function to implement the Metropolis-Hastings"
   ]
  },
  {
   "cell_type": "code",
   "execution_count": 654,
   "metadata": {},
   "outputs": [],
   "source": [
    "def metropolis_hastings(parameter_init=0, sigma_proposal=1, n_iter=1000, k=1000, tol=1):\n",
    "\n",
    "    tic = time.time()\n",
    "\n",
    "    # create an empty list to store the sampled parameters\n",
    "    parameters_list = list()\n",
    "\n",
    "    # initialize parameter variable with initial parameter passed to the function\n",
    "    parameter = parameter_init\n",
    "\n",
    "    # add the initial parameter also to the list\n",
    "    parameters_list.append(parameter)\n",
    "\n",
    "    # now, we will use prior and posterior to calculate initial posterior value\n",
    "    \n",
    "    # calculate the prior using mean = 25 and std = 5 (variance = 25)\n",
    "    prior = norm(parameter, 25, 25)\n",
    "\n",
    "    # calculate the likelihood by multiplying 50 samples generated from normal distribution\n",
    "    likelihood = np.prod([norm(x, parameter, sigma_proposal**2) for x in data_samples])\n",
    "                \n",
    "    # calculate the posterior\n",
    "    posterior_current = prior * likelihood\n",
    "\n",
    "    # initialize a variable to record the iteration number at which our algo converges\n",
    "    convergence_iter = 0\n",
    "\n",
    "    # run the algo for n_iter iterations\n",
    "    for i in range(n_iter):\n",
    "\n",
    "        # select a random sample from jump distribution (consider normal distribution)\n",
    "        parameter_jump = np.random.normal(loc=parameter, scale=sigma_proposal)\n",
    "\n",
    "        # calculate the prior for the proposed parameter, given mean = 25 and std = 5 (variance = 25)\n",
    "        prior = norm(parameter_jump, 25, 25)\n",
    "\n",
    "        # calculate the likelihood by multiplying pdf of 50 samples generated from normal distribution\n",
    "        # and use the proposed parameter as the mean\n",
    "        likelihood = np.prod([norm(x, parameter_jump, sigma_proposal**2) for x in data_samples])\n",
    "                \n",
    "        # calculate the posterior for the current iteration\n",
    "        posterior_next = prior * likelihood\n",
    "\n",
    "        # find the ratio of proposed posterior to the current posterior and compare it with 'a'\n",
    "        r = min(1, (posterior_next / posterior_current))\n",
    "\n",
    "        # select a random number between 0 and 1\n",
    "        a = np.random.uniform(0, 1)\n",
    "\n",
    "        if(r > a):\n",
    "            # accept the current value and update parameter\n",
    "            parameter = parameter_jump\n",
    "\n",
    "            # update the proposed posterior for the next iteration\n",
    "            posterior_current = posterior_next\n",
    "\n",
    "        # add the current mean to the list of means\n",
    "        parameters_list.append(parameter)\n",
    "\n",
    "        # convergence criteria check\n",
    "        if(i > k):\n",
    "\n",
    "            # extract last k samples\n",
    "            last_k_samples = parameters_list[-k:]\n",
    "            \n",
    "            # if the changes in mean of last k samples is below tolerance then break iterations\n",
    "            if(np.all(np.abs(last_k_samples - np.mean(last_k_samples))) <= tol):\n",
    "                \n",
    "                # record the iteration number\n",
    "                convergence_iter = i\n",
    "                print('Converged at iteration: ', i, ' Proposal Width = ', sigma_proposal)\n",
    "                \n",
    "                break\n",
    "\n",
    "    print('Time Taken to Converge: ', time.time() - tic)\n",
    "\n",
    "    # If the algo ran for all iterations return the number of iters it ran (this value will be used later)\n",
    "    if(convergence_iter == 0):\n",
    "        convergence_iter = 1000000\n",
    "\n",
    "    return parameters_list, convergence_iter"
   ]
  },
  {
   "cell_type": "markdown",
   "metadata": {},
   "source": [
    "# Run the Metropolis Algorithm for our Data"
   ]
  },
  {
   "cell_type": "code",
   "execution_count": 655,
   "metadata": {},
   "outputs": [
    {
     "name": "stdout",
     "output_type": "stream",
     "text": [
      "Time Taken to Converge:  41.094358682632446\n"
     ]
    }
   ],
   "source": [
    "# run the metropolis algo with some sigma value and iterations\n",
    "parameters, convergence_iter = metropolis_hastings(parameter_init=0, sigma_proposal=2, n_iter=100000, k=800, tol=0.8)"
   ]
  },
  {
   "cell_type": "markdown",
   "metadata": {},
   "source": [
    "# Compare the Histogram of Samples and Calculated Posterior from the Previous Question"
   ]
  },
  {
   "cell_type": "code",
   "execution_count": 656,
   "metadata": {},
   "outputs": [
    {
     "name": "stdout",
     "output_type": "stream",
     "text": [
      "Parameters Mean =  9.720552439156176 STD =  0.704558402896102\n",
      "Posterior Mean =  9.787546281425936 STD =  0.7724693148882209\n"
     ]
    },
    {
     "data": {
      "image/png": "[encoded data removed]",
      "text/plain": [
       "<Figure size 720x504 with 1 Axes>"
      ]
     },
     "metadata": {
      "needs_background": "light"
     },
     "output_type": "display_data"
    }
   ],
   "source": [
    "# Define figure-size, labels, and figure-title\n",
    "plt.figure(figsize=(10, 7))\n",
    "plt.title('Comparison of Histogram and Analytical Posterior')\n",
    "\n",
    "# Plot the histogram of samples (skip the first few values as they might not be much accurate)\n",
    "plt.hist(parameters, bins=500, color='r', density=True)\n",
    "print('Parameters Mean = ', np.mean(parameters), 'STD = ', np.std(parameters))\n",
    "\n",
    "# Generate values for plotting the posterior pdf\n",
    "x_plot = np.linspace(start=5, stop=15, num=1000)\n",
    "print('Posterior Mean = ', mean_posterior, 'STD = ', std_posterior)\n",
    "\n",
    "# Plot the analytical posterior\n",
    "plt.plot(x_plot, norm(x_plot, mean=mean_posterior, variance=variance_posterior), color='b', linewidth=2)\n",
    "\n",
    "# Add legend to the figure\n",
    "plt.legend([\"Analytical Posterior\", \"Parameters from Metropolis Hastings\"], loc =\"upper left\")\n",
    "plt.show()"
   ]
  },
  {
   "cell_type": "markdown",
   "metadata": {},
   "source": [
    "# (c) How does the speed of convergence of the sampling depend on the proposal width? Is there an optimal proposal width that would work best? Demonstrate the consequences of using sub-optimal proposal width and terminating sampling too soon. [10 points]"
   ]
  },
  {
   "cell_type": "markdown",
   "metadata": {},
   "source": [
    "# Run the Metropolis-Hastings for Different Proposal Widths and Find the Optimal Proposal Width"
   ]
  },
  {
   "cell_type": "code",
   "execution_count": 661,
   "metadata": {},
   "outputs": [
    {
     "name": "stderr",
     "output_type": "stream",
     "text": [
      "C:\\Users\\tripa\\AppData\\Local\\Temp/ipykernel_17856/1753896537.py:45: RuntimeWarning: invalid value encountered in double_scalars\n",
      "  r = min(1, (posterior_next / posterior_current))\n"
     ]
    },
    {
     "name": "stdout",
     "output_type": "stream",
     "text": [
      "Time Taken to Converge:  48.428038358688354\n",
      "Parameters Mean =  -173.71617765350123 STD =  85.89864495175844\n",
      "Posterior Mean =  9.787546281425936 STD =  0.7724693148882209\n"
     ]
    },
    {
     "data": {
      "image/png": "[encoded data removed]",
      "text/plain": [
       "<Figure size 720x504 with 1 Axes>"
      ]
     },
     "metadata": {
      "needs_background": "light"
     },
     "output_type": "display_data"
    },
    {
     "name": "stderr",
     "output_type": "stream",
     "text": [
      "C:\\Users\\tripa\\AppData\\Local\\Temp/ipykernel_17856/1753896537.py:45: RuntimeWarning: invalid value encountered in double_scalars\n",
      "  r = min(1, (posterior_next / posterior_current))\n",
      "C:\\Users\\tripa\\AppData\\Local\\Temp/ipykernel_17856/1753896537.py:45: RuntimeWarning: divide by zero encountered in double_scalars\n",
      "  r = min(1, (posterior_next / posterior_current))\n"
     ]
    },
    {
     "name": "stdout",
     "output_type": "stream",
     "text": [
      "Time Taken to Converge:  46.705073833465576\n",
      "Parameters Mean =  9.411406967409098 STD =  1.1895882243915372\n",
      "Posterior Mean =  9.787546281425936 STD =  0.7724693148882209\n"
     ]
    },
    {
     "data": {
      "image/png": "[encoded data removed]",
      "text/plain": [
       "<Figure size 720x504 with 1 Axes>"
      ]
     },
     "metadata": {
      "needs_background": "light"
     },
     "output_type": "display_data"
    },
    {
     "name": "stdout",
     "output_type": "stream",
     "text": [
      "Time Taken to Converge:  44.91166567802429\n",
      "Parameters Mean =  9.530567583645535 STD =  0.42772566595794637\n",
      "Posterior Mean =  9.787546281425936 STD =  0.7724693148882209\n"
     ]
    },
    {
     "data": {
      "image/png": "[encoded data removed]",
      "text/plain": [
       "<Figure size 720x504 with 1 Axes>"
      ]
     },
     "metadata": {
      "needs_background": "light"
     },
     "output_type": "display_data"
    },
    {
     "name": "stdout",
     "output_type": "stream",
     "text": [
      "Time Taken to Converge:  44.1748685836792\n",
      "Parameters Mean =  9.611764595246447 STD =  0.5666204060049815\n",
      "Posterior Mean =  9.787546281425936 STD =  0.7724693148882209\n"
     ]
    },
    {
     "data": {
      "image/png": "[encoded data removed]",
      "text/plain": [
       "<Figure size 720x504 with 1 Axes>"
      ]
     },
     "metadata": {
      "needs_background": "light"
     },
     "output_type": "display_data"
    },
    {
     "name": "stdout",
     "output_type": "stream",
     "text": [
      "Time Taken to Converge:  44.05892586708069\n",
      "Parameters Mean =  9.71125475495339 STD =  0.6997538580201971\n",
      "Posterior Mean =  9.787546281425936 STD =  0.7724693148882209\n"
     ]
    },
    {
     "data": {
      "image/png": "[encoded data removed]",
      "text/plain": [
       "<Figure size 720x504 with 1 Axes>"
      ]
     },
     "metadata": {
      "needs_background": "light"
     },
     "output_type": "display_data"
    },
    {
     "name": "stdout",
     "output_type": "stream",
     "text": [
      "The proposal width with fastest convergence is =  1\n"
     ]
    }
   ],
   "source": [
    "# create a list to record the iteration where it converges\n",
    "convergence_iter_list = list()\n",
    "\n",
    "# run for different proposal widths\n",
    "for proposal_width in range(1, 6):\n",
    "\n",
    "    parameters, convergence_iter = metropolis_hastings(parameter_init=0, sigma_proposal=proposal_width, n_iter=100000, k=1000, tol=0.8)\n",
    "    convergence_iter_list.append(convergence_iter)\n",
    "\n",
    "    # Define figure-size, labels, and figure-title\n",
    "    plt.figure(figsize=(10, 7))\n",
    "    plt.title('Comparison of Histogram and Analytical Posterior (Proposal Width = '+str(proposal_width)+')')\n",
    "\n",
    "    # Plot the histogram of samples (skip the first few values as they might not be much accurate)\n",
    "    plt.hist(parameters, bins=500, color='r', density=True)\n",
    "    print('Parameters Mean = ', np.mean(parameters), 'STD = ', np.std(parameters))\n",
    "\n",
    "    # Generate values for plotting the posterior pdf\n",
    "    x_plot = np.linspace(start=5, stop=15, num=1000)\n",
    "    print('Posterior Mean = ', mean_posterior, 'STD = ', std_posterior)\n",
    "\n",
    "    # Plot the analytical posterior\n",
    "    plt.plot(x_plot, norm(x_plot, mean=mean_posterior, variance=variance_posterior), color='b', linewidth=2)\n",
    "\n",
    "    # Add legend to the figure\n",
    "    plt.legend([\"Analytical Posterior\", \"Parameters from Metropolis Hastings\"], loc =\"upper left\")\n",
    "    plt.show()\n",
    "\n",
    "\n",
    "# Find the proposal width that converged earliest\n",
    "optimal_proposal_width = convergence_iter_list.index(min(convergence_iter_list)) + 1\n",
    "print('The proposal width with fastest convergence is = ', optimal_proposal_width)"
   ]
  },
  {
   "cell_type": "markdown",
   "metadata": {},
   "source": [
    "# Note that in the above figures, the proposal width = 5 gives the best approximation of posterior. We can consider it as the optimal proposal width"
   ]
  },
  {
   "cell_type": "markdown",
   "metadata": {},
   "source": [
    "# Consequence of using Sub-Optimal Proposal Width\n",
    "\n",
    "The histogram of samples would not converge to the posterior approximation even after huge number of sampling iterations"
   ]
  },
  {
   "cell_type": "code",
   "execution_count": 659,
   "metadata": {},
   "outputs": [
    {
     "name": "stderr",
     "output_type": "stream",
     "text": [
      "C:\\Users\\tripa\\AppData\\Local\\Temp/ipykernel_17856/1753896537.py:45: RuntimeWarning: invalid value encountered in double_scalars\n",
      "  r = min(1, (posterior_next / posterior_current))\n"
     ]
    },
    {
     "name": "stdout",
     "output_type": "stream",
     "text": [
      "Time Taken to Converge:  45.830381870269775\n",
      "Parameters Mean =  -55.46767559418243 STD =  75.89173036827441\n",
      "Posterior Mean =  9.787546281425936 STD =  0.7724693148882209\n"
     ]
    },
    {
     "data": {
      "image/png": "[encoded data removed]",
      "text/plain": [
       "<Figure size 720x504 with 1 Axes>"
      ]
     },
     "metadata": {
      "needs_background": "light"
     },
     "output_type": "display_data"
    }
   ],
   "source": [
    "parameters, convergence_iter = metropolis_hastings(parameter_init=0, sigma_proposal=0.8, n_iter=100000, k=1000, tol=0.8)\n",
    "\n",
    "# Define figure-size, labels, and figure-title\n",
    "plt.figure(figsize=(10, 7))\n",
    "plt.title('Approximation using Sub-Optimal Proposal Width')\n",
    "\n",
    "# Plot the histogram of samples (skip the first few values as they might not be much accurate)\n",
    "plt.hist(parameters, bins=500, color='r', density=True)\n",
    "print('Parameters Mean = ', np.mean(parameters), 'STD = ', np.std(parameters))\n",
    "\n",
    "# Generate values for plotting the posterior pdf\n",
    "x_plot = np.linspace(start=5, stop=15, num=1000)\n",
    "print('Posterior Mean = ', mean_posterior, 'STD = ', std_posterior)\n",
    "\n",
    "# Plot the analytical posterior\n",
    "plt.plot(x_plot, norm(x_plot, mean=mean_posterior, variance=variance_posterior), color='b', linewidth=2)\n",
    "\n",
    "# Add legend to the figure\n",
    "plt.legend([\"Analytical Posterior\", \"Parameters from Metropolis Hastings\"], loc =\"upper left\")\n",
    "plt.show()"
   ]
  },
  {
   "cell_type": "markdown",
   "metadata": {},
   "source": [
    "# Consequence of Terminating Sampling Too Early\n",
    "\n",
    "The histogram of samples would be incomplete and the approximation would not be accurate"
   ]
  },
  {
   "cell_type": "code",
   "execution_count": 660,
   "metadata": {},
   "outputs": [
    {
     "name": "stderr",
     "output_type": "stream",
     "text": [
      "C:\\Users\\tripa\\AppData\\Local\\Temp/ipykernel_17856/1753896537.py:45: RuntimeWarning: divide by zero encountered in double_scalars\n",
      "  r = min(1, (posterior_next / posterior_current))\n"
     ]
    },
    {
     "name": "stdout",
     "output_type": "stream",
     "text": [
      "Time Taken to Converge:  0.38297009468078613\n",
      "Parameters Mean =  9.409560174682904 STD =  0.6100762375310695\n",
      "Posterior Mean =  9.787546281425936 STD =  0.7724693148882209\n"
     ]
    },
    {
     "data": {
      "image/png": "[encoded data removed]",
      "text/plain": [
       "<Figure size 720x504 with 1 Axes>"
      ]
     },
     "metadata": {
      "needs_background": "light"
     },
     "output_type": "display_data"
    }
   ],
   "source": [
    "# run the algo for only 1000 iterations\n",
    "parameters, convergence_iter = metropolis_hastings(parameter_init=0, sigma_proposal=2, n_iter=1000, k=1000, tol=0.8)\n",
    "\n",
    "# Define figure-size, labels, and figure-title\n",
    "plt.figure(figsize=(10, 7))\n",
    "plt.title('Approximation when Sampling is Terminated Early')\n",
    "\n",
    "# Plot the histogram of samples (skip the first few values as they might not be much accurate)\n",
    "plt.hist(parameters, bins=500, color='r', density=True)\n",
    "print('Parameters Mean = ', np.mean(parameters), 'STD = ', np.std(parameters))\n",
    "\n",
    "# Generate values for plotting the posterior pdf\n",
    "x_plot = np.linspace(start=5, stop=15, num=1000)\n",
    "print('Posterior Mean = ', mean_posterior, 'STD = ', std_posterior)\n",
    "\n",
    "# Plot the analytical posterior\n",
    "plt.plot(x_plot, norm(x_plot, mean=mean_posterior, variance=variance_posterior), color='b', linewidth=2)\n",
    "\n",
    "# Add legend to the figure\n",
    "plt.legend([\"Analytical Posterior\", \"Parameters from Metropolis Hastings\"], loc =\"upper left\")\n",
    "plt.show()"
   ]
  },
  {
   "cell_type": "markdown",
   "id": "dd4445d2",
   "metadata": {},
   "source": [
    "------------------------------------------------------------------------------------------ End of Assignment --------------------------------------------------------------------------------------------"
   ]
  }
 ],
 "metadata": {
  "interpreter": {
   "hash": "8f764b1ce2c93b401f33e75df7812449d8b41ae58038cf416ebcb056fbf386c2"
  },
  "kernelspec": {
   "display_name": "Python 3.9.6 64-bit",
   "name": "python3"
  },
  "language_info": {
   "codemirror_mode": {
    "name": "ipython",
    "version": 3
   },
   "file_extension": ".py",
   "mimetype": "text/x-python",
   "name": "python",
   "nbconvert_exporter": "python",
   "pygments_lexer": "ipython3",
   "version": "3.9.6"
  }
 },
 "nbformat": 4,
 "nbformat_minor": 5
}
